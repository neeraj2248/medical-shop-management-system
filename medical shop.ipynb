{
 "cells": [
  {
   "cell_type": "code",
   "execution_count": null,
   "id": "c71b90a4-0338-4448-bff4-a3c3f6623097",
   "metadata": {},
   "outputs": [],
   "source": []
  },
  {
   "cell_type": "code",
   "execution_count": 2,
   "id": "5862dbf0-c8f8-483a-b191-cfa3584db742",
   "metadata": {},
   "outputs": [
    {
     "name": "stdout",
     "output_type": "stream",
     "text": [
      "                                   \n",
      "*********************************\n",
      "Welcome to neeraj medical shop\n",
      "*********************************\n",
      "\n"
     ]
    },
    {
     "name": "stdin",
     "output_type": "stream",
     "text": [
      "person times visit :- 0\n"
     ]
    }
   ],
   "source": [
    "print(\"\"\"                                   \n",
    "*********************************\n",
    "Welcome to neeraj medical shop\n",
    "*********************************\n",
    "\"\"\")\n",
    "shopvisit=int(input('person times visit :-'))  \n",
    "point=0\n",
    "for i in range(1,shopvisit+1):\n",
    "    print('\\n\\nshopvisit',i)\n",
    "    total=0\n",
    "    medt=int(input('How many medicines purchase customer:-'))\n",
    "    medqbill=medt\n",
    "    if medt>0:\n",
    "        for j in range(1,medt+1):\n",
    "            name=input(f'medicine name of {j}:-')\n",
    "            medq=int(input(f'Enter medicine type {j} quantity:-'))\n",
    "            if medq>0:\n",
    "                medc=float(input(f'Enter medicine typr {j} cost:-'))\n",
    "                permedTotal=medq*medc\n",
    "                total+=permedTotal\n",
    "            else:\n",
    "                print(f'Wrong Input:- Quantity entered for type {j} medicine is zero')\n",
    "                medqbill-=1\n",
    "        curpoint=total//100\n",
    "        if medqbill>0:\n",
    "            print('your total bill in',i,'visit',total)\n",
    "            print('points earned in:-',curpoint)\n",
    "            if i==1:\n",
    "                point+=curpoint\n",
    "                print('your total Bill:-',total)\n",
    "                print('total point1:-',point)\n",
    "            elif(i>1):\n",
    "                    if (point>9):\n",
    "                        print('customer useble points:-',point,'this points value:-',(point*25))\n",
    "                        ans=input('enter y/n:')\n",
    "                        if (ans=='y') or (ans=='Y'):\n",
    "                            z=int(input('customer use points:-'))\n",
    "                            if point>=z:\n",
    "                                point=(point-z)\n",
    "                                discount=z*25\n",
    "                                if total>=discount:\n",
    "                                    fainalbill=total-discount\n",
    "                                    point+=curpoint\n",
    "                                    print('total Bill after discount:-',fainalbill)\n",
    "                                    print('total reminder point:-',point)\n",
    "                                else:\n",
    "                                    fainalbill=total\n",
    "                                    point+=curpoint\n",
    "                                    point+=z\n",
    "                                    print('Discount is not possible in this Bill:-',fainalbill)\n",
    "                                    print('total point2:-',point)\n",
    "                            else:\n",
    "                                point+=curpoint\n",
    "                                print('you crossed the point limit:-')\n",
    "                                print('your total Bill:-',total)\n",
    "                                print('total point:-',point)\n",
    "                        else:\n",
    "                            point+=curpoint\n",
    "                            print(\"total bill:-\",total)\n",
    "                            print('total point:-',point)\n",
    "                    else:\n",
    "                        print('you have inssuficient point<10:-',point)\n",
    "                        point+=curpoint\n",
    "                        print(\"total bill:-\",total)\n",
    "                        print('total point:-',point)"
   ]
  },
  {
   "cell_type": "code",
   "execution_count": null,
   "id": "c8757711-8802-4ef2-b1c8-8d5dc9740fd2",
   "metadata": {},
   "outputs": [],
   "source": []
  }
 ],
 "metadata": {
  "kernelspec": {
   "display_name": "Python 3 (ipykernel)",
   "language": "python",
   "name": "python3"
  },
  "language_info": {
   "codemirror_mode": {
    "name": "ipython",
    "version": 3
   },
   "file_extension": ".py",
   "mimetype": "text/x-python",
   "name": "python",
   "nbconvert_exporter": "python",
   "pygments_lexer": "ipython3",
   "version": "3.11.6"
  }
 },
 "nbformat": 4,
 "nbformat_minor": 5
}
